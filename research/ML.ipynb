{
 "cells": [
  {
   "cell_type": "code",
   "execution_count": 5,
   "id": "b3ecaa8d",
   "metadata": {},
   "outputs": [],
   "source": [
    "import json # will be needed for saving preprocessing details\n",
    "import numpy as np # for data manipulation\n",
    "import pandas as pd # for data manipulation\n",
    "from sklearn.model_selection import train_test_split # will be used for data split\n",
    "from sklearn.preprocessing import LabelEncoder # for preprocessing\n",
    "from sklearn.ensemble import RandomForestClassifier # for training the algorithm\n",
    "from sklearn.ensemble import ExtraTreesClassifier # for training the algorithm\n",
    "import joblib # for saving algorithm and preprocessing objects"
   ]
  },
  {
   "cell_type": "code",
   "execution_count": 6,
   "id": "a7addd72",
   "metadata": {},
   "outputs": [
    {
     "data": {
      "text/html": [
       "<div>\n",
       "<style scoped>\n",
       "    .dataframe tbody tr th:only-of-type {\n",
       "        vertical-align: middle;\n",
       "    }\n",
       "\n",
       "    .dataframe tbody tr th {\n",
       "        vertical-align: top;\n",
       "    }\n",
       "\n",
       "    .dataframe thead th {\n",
       "        text-align: right;\n",
       "    }\n",
       "</style>\n",
       "<table border=\"1\" class=\"dataframe\">\n",
       "  <thead>\n",
       "    <tr style=\"text-align: right;\">\n",
       "      <th></th>\n",
       "      <th>age</th>\n",
       "      <th>workclass</th>\n",
       "      <th>fnlwgt</th>\n",
       "      <th>education</th>\n",
       "      <th>education-num</th>\n",
       "      <th>marital-status</th>\n",
       "      <th>occupation</th>\n",
       "      <th>relationship</th>\n",
       "      <th>race</th>\n",
       "      <th>sex</th>\n",
       "      <th>capital-gain</th>\n",
       "      <th>capital-loss</th>\n",
       "      <th>hours-per-week</th>\n",
       "      <th>native-country</th>\n",
       "      <th>income</th>\n",
       "    </tr>\n",
       "  </thead>\n",
       "  <tbody>\n",
       "    <tr>\n",
       "      <th>0</th>\n",
       "      <td>39</td>\n",
       "      <td>State-gov</td>\n",
       "      <td>77516</td>\n",
       "      <td>Bachelors</td>\n",
       "      <td>13</td>\n",
       "      <td>Never-married</td>\n",
       "      <td>Adm-clerical</td>\n",
       "      <td>Not-in-family</td>\n",
       "      <td>White</td>\n",
       "      <td>Male</td>\n",
       "      <td>2174</td>\n",
       "      <td>0</td>\n",
       "      <td>40</td>\n",
       "      <td>United-States</td>\n",
       "      <td>&lt;=50K</td>\n",
       "    </tr>\n",
       "    <tr>\n",
       "      <th>1</th>\n",
       "      <td>50</td>\n",
       "      <td>Self-emp-not-inc</td>\n",
       "      <td>83311</td>\n",
       "      <td>Bachelors</td>\n",
       "      <td>13</td>\n",
       "      <td>Married-civ-spouse</td>\n",
       "      <td>Exec-managerial</td>\n",
       "      <td>Husband</td>\n",
       "      <td>White</td>\n",
       "      <td>Male</td>\n",
       "      <td>0</td>\n",
       "      <td>0</td>\n",
       "      <td>13</td>\n",
       "      <td>United-States</td>\n",
       "      <td>&lt;=50K</td>\n",
       "    </tr>\n",
       "    <tr>\n",
       "      <th>2</th>\n",
       "      <td>38</td>\n",
       "      <td>Private</td>\n",
       "      <td>215646</td>\n",
       "      <td>HS-grad</td>\n",
       "      <td>9</td>\n",
       "      <td>Divorced</td>\n",
       "      <td>Handlers-cleaners</td>\n",
       "      <td>Not-in-family</td>\n",
       "      <td>White</td>\n",
       "      <td>Male</td>\n",
       "      <td>0</td>\n",
       "      <td>0</td>\n",
       "      <td>40</td>\n",
       "      <td>United-States</td>\n",
       "      <td>&lt;=50K</td>\n",
       "    </tr>\n",
       "    <tr>\n",
       "      <th>3</th>\n",
       "      <td>53</td>\n",
       "      <td>Private</td>\n",
       "      <td>234721</td>\n",
       "      <td>11th</td>\n",
       "      <td>7</td>\n",
       "      <td>Married-civ-spouse</td>\n",
       "      <td>Handlers-cleaners</td>\n",
       "      <td>Husband</td>\n",
       "      <td>Black</td>\n",
       "      <td>Male</td>\n",
       "      <td>0</td>\n",
       "      <td>0</td>\n",
       "      <td>40</td>\n",
       "      <td>United-States</td>\n",
       "      <td>&lt;=50K</td>\n",
       "    </tr>\n",
       "    <tr>\n",
       "      <th>4</th>\n",
       "      <td>28</td>\n",
       "      <td>Private</td>\n",
       "      <td>338409</td>\n",
       "      <td>Bachelors</td>\n",
       "      <td>13</td>\n",
       "      <td>Married-civ-spouse</td>\n",
       "      <td>Prof-specialty</td>\n",
       "      <td>Wife</td>\n",
       "      <td>Black</td>\n",
       "      <td>Female</td>\n",
       "      <td>0</td>\n",
       "      <td>0</td>\n",
       "      <td>40</td>\n",
       "      <td>Cuba</td>\n",
       "      <td>&lt;=50K</td>\n",
       "    </tr>\n",
       "  </tbody>\n",
       "</table>\n",
       "</div>"
      ],
      "text/plain": [
       "   age         workclass  fnlwgt  education  education-num  \\\n",
       "0   39         State-gov   77516  Bachelors             13   \n",
       "1   50  Self-emp-not-inc   83311  Bachelors             13   \n",
       "2   38           Private  215646    HS-grad              9   \n",
       "3   53           Private  234721       11th              7   \n",
       "4   28           Private  338409  Bachelors             13   \n",
       "\n",
       "       marital-status         occupation   relationship   race     sex  \\\n",
       "0       Never-married       Adm-clerical  Not-in-family  White    Male   \n",
       "1  Married-civ-spouse    Exec-managerial        Husband  White    Male   \n",
       "2            Divorced  Handlers-cleaners  Not-in-family  White    Male   \n",
       "3  Married-civ-spouse  Handlers-cleaners        Husband  Black    Male   \n",
       "4  Married-civ-spouse     Prof-specialty           Wife  Black  Female   \n",
       "\n",
       "   capital-gain  capital-loss  hours-per-week native-country income  \n",
       "0          2174             0              40  United-States  <=50K  \n",
       "1             0             0              13  United-States  <=50K  \n",
       "2             0             0              40  United-States  <=50K  \n",
       "3             0             0              40  United-States  <=50K  \n",
       "4             0             0              40           Cuba  <=50K  "
      ]
     },
     "execution_count": 6,
     "metadata": {},
     "output_type": "execute_result"
    }
   ],
   "source": [
    "df = pd.read_csv('./data_.csv', skipinitialspace=True)\n",
    "x_cols = [c for c in df.columns if c != 'income']\n",
    "# set input matrix and target column\n",
    "X = df[x_cols]\n",
    "y = df['income']\n",
    "# show first rows of data\n",
    "df.head()"
   ]
  },
  {
   "cell_type": "code",
   "execution_count": 7,
   "id": "ce220a79",
   "metadata": {},
   "outputs": [],
   "source": [
    "X_train, X_test, y_train, y_test = train_test_split(X, y, test_size = 0.3, random_state=1234)"
   ]
  },
  {
   "cell_type": "code",
   "execution_count": 4,
   "id": "3113ce25",
   "metadata": {},
   "outputs": [
    {
     "name": "stdout",
     "output_type": "stream",
     "text": [
      "{'age': 31.0, 'workclass': 'Private', 'fnlwgt': 121124, 'education': 'HS-grad', 'education-num': 9.0, 'marital-status': 'Married-civ-spouse', 'occupation': 'Prof-specialty', 'relationship': 'Husband', 'race': 'White', 'sex': 'Male', 'capital-gain': 0.0, 'capital-loss': 0.0, 'hours-per-week': 40.0, 'native-country': 'United-States'}\n"
     ]
    }
   ],
   "source": [
    "train_mode = dict(X_train.mode().iloc[0])\n",
    "X_train = X_train.fillna(train_mode)\n",
    "print(train_mode)"
   ]
  },
  {
   "cell_type": "code",
   "execution_count": 16,
   "id": "dda14c4c",
   "metadata": {},
   "outputs": [],
   "source": [
    "# convert categoricals\n",
    "encoders = {}\n",
    "for column in ['workclass', 'education', 'marital-status',\n",
    "                'occupation', 'relationship', 'race',\n",
    "                'sex','native-country']:\n",
    "    categorical_convert = LabelEncoder()\n",
    "    X_train[column] = categorical_convert.fit_transform(X_train[column])\n",
    "    encoders[column] = categorical_convert"
   ]
  },
  {
   "cell_type": "code",
   "execution_count": 17,
   "id": "06bb9021",
   "metadata": {},
   "outputs": [],
   "source": [
    "# train the Random Forest algorithm\n",
    "rf = RandomForestClassifier(n_estimators = 100)\n",
    "rf = rf.fit(X_train, y_train)"
   ]
  },
  {
   "cell_type": "code",
   "execution_count": 18,
   "id": "860ea011",
   "metadata": {},
   "outputs": [],
   "source": [
    "# train the Extra Trees algorithm\n",
    "et = ExtraTreesClassifier(n_estimators = 100)\n",
    "et = et.fit(X_train, y_train)"
   ]
  },
  {
   "cell_type": "code",
   "execution_count": 19,
   "id": "0f6754f4",
   "metadata": {},
   "outputs": [
    {
     "data": {
      "text/plain": [
       "['./extra_trees.joblib']"
      ]
     },
     "execution_count": 19,
     "metadata": {},
     "output_type": "execute_result"
    }
   ],
   "source": [
    "# save preprocessing objects and RF algorithm\n",
    "joblib.dump(train_mode, \"./train_mode.joblib\", compress=True)\n",
    "joblib.dump(encoders, \"./encoders.joblib\", compress=True)\n",
    "joblib.dump(rf, \"./random_forest.joblib\", compress=True)\n",
    "joblib.dump(et, \"./extra_trees.joblib\", compress=True)"
   ]
  },
  {
   "cell_type": "code",
   "execution_count": 23,
   "id": "88293357",
   "metadata": {},
   "outputs": [
    {
     "data": {
      "text/plain": [
       "ExtraTreesClassifier()"
      ]
     },
     "execution_count": 23,
     "metadata": {},
     "output_type": "execute_result"
    }
   ],
   "source": [
    "et"
   ]
  },
  {
   "cell_type": "markdown",
   "id": "539ebca6",
   "metadata": {},
   "source": [
    "## Test"
   ]
  },
  {
   "cell_type": "code",
   "execution_count": 10,
   "id": "d23cc178",
   "metadata": {},
   "outputs": [],
   "source": [
    "import requests"
   ]
  },
  {
   "cell_type": "code",
   "execution_count": 13,
   "id": "edb85b84",
   "metadata": {},
   "outputs": [
    {
     "name": "stdout",
     "output_type": "stream",
     "text": [
      "{'probability': 0.62, 'label': '>50K', 'status': 'OK', 'request_id': 102}\n",
      "{'probability': 0.38, 'label': '<=50K', 'status': 'OK', 'request_id': 103}\n",
      "{'probability': 0.06, 'label': '<=50K', 'status': 'OK', 'request_id': 104}\n",
      "{'probability': 0.77, 'label': '>50K', 'status': 'OK', 'request_id': 105}\n",
      "{'probability': 0.0, 'label': '<=50K', 'status': 'OK', 'request_id': 106}\n",
      "{'probability': 0.0, 'label': '<=50K', 'status': 'OK', 'request_id': 107}\n",
      "{'probability': 0.0, 'label': '<=50K', 'status': 'OK', 'request_id': 108}\n",
      "{'probability': 0.21, 'label': '<=50K', 'status': 'OK', 'request_id': 109}\n",
      "{'probability': 0.0, 'label': '<=50K', 'status': 'OK', 'request_id': 110}\n",
      "{'probability': 0.51, 'label': '>50K', 'status': 'OK', 'request_id': 111}\n",
      "{'probability': 0.72, 'label': '>50K', 'status': 'OK', 'request_id': 112}\n",
      "{'probability': 0.04, 'label': '<=50K', 'status': 'OK', 'request_id': 113}\n",
      "{'probability': 0.15, 'label': '<=50K', 'status': 'OK', 'request_id': 114}\n",
      "{'probability': 0.01, 'label': '<=50K', 'status': 'OK', 'request_id': 115}\n",
      "{'probability': 0.84, 'label': '>50K', 'status': 'OK', 'request_id': 116}\n",
      "{'probability': 0.39, 'label': '<=50K', 'status': 'OK', 'request_id': 117}\n",
      "{'probability': 0.0, 'label': '<=50K', 'status': 'OK', 'request_id': 118}\n",
      "{'probability': 0.02, 'label': '<=50K', 'status': 'OK', 'request_id': 119}\n",
      "{'probability': 0.21, 'label': '<=50K', 'status': 'OK', 'request_id': 120}\n",
      "{'probability': 0.13, 'label': '<=50K', 'status': 'OK', 'request_id': 121}\n",
      "{'probability': 0.11, 'label': '<=50K', 'status': 'OK', 'request_id': 122}\n",
      "{'probability': 0.02, 'label': '<=50K', 'status': 'OK', 'request_id': 123}\n",
      "{'probability': 0.11, 'label': '<=50K', 'status': 'OK', 'request_id': 124}\n",
      "{'probability': 0.27, 'label': '<=50K', 'status': 'OK', 'request_id': 125}\n",
      "{'probability': 0.0, 'label': '<=50K', 'status': 'OK', 'request_id': 126}\n",
      "{'probability': 0.2, 'label': '<=50K', 'status': 'OK', 'request_id': 127}\n",
      "{'probability': 0.27, 'label': '<=50K', 'status': 'OK', 'request_id': 128}\n",
      "{'probability': 0.53, 'label': '>50K', 'status': 'OK', 'request_id': 129}\n",
      "{'probability': 0.0, 'label': '<=50K', 'status': 'OK', 'request_id': 130}\n",
      "{'probability': 0.17, 'label': '<=50K', 'status': 'OK', 'request_id': 131}\n",
      "{'probability': 0.17, 'label': '<=50K', 'status': 'OK', 'request_id': 132}\n",
      "{'probability': 0.85, 'label': '>50K', 'status': 'OK', 'request_id': 133}\n",
      "{'probability': 0.12, 'label': '<=50K', 'status': 'OK', 'request_id': 134}\n",
      "{'probability': 0.23, 'label': '<=50K', 'status': 'OK', 'request_id': 135}\n",
      "{'probability': 0.0, 'label': '<=50K', 'status': 'OK', 'request_id': 136}\n",
      "{'probability': 0.07, 'label': '<=50K', 'status': 'OK', 'request_id': 137}\n",
      "{'probability': 0.19, 'label': '<=50K', 'status': 'OK', 'request_id': 138}\n",
      "{'probability': 0.0, 'label': '<=50K', 'status': 'OK', 'request_id': 139}\n",
      "{'probability': 0.01, 'label': '<=50K', 'status': 'OK', 'request_id': 140}\n",
      "{'probability': 0.0, 'label': '<=50K', 'status': 'OK', 'request_id': 141}\n",
      "{'probability': 0.02, 'label': '<=50K', 'status': 'OK', 'request_id': 142}\n",
      "{'probability': 0.01, 'label': '<=50K', 'status': 'OK', 'request_id': 143}\n",
      "{'probability': 0.41, 'label': '<=50K', 'status': 'OK', 'request_id': 144}\n",
      "{'probability': 0.79, 'label': '>50K', 'status': 'OK', 'request_id': 145}\n",
      "{'probability': 0.0, 'label': '<=50K', 'status': 'OK', 'request_id': 146}\n",
      "{'probability': 0.13, 'label': '<=50K', 'status': 'OK', 'request_id': 147}\n",
      "{'probability': 0.93, 'label': '>50K', 'status': 'OK', 'request_id': 148}\n",
      "{'probability': 0.0, 'label': '<=50K', 'status': 'OK', 'request_id': 149}\n",
      "{'probability': 0.89, 'label': '>50K', 'status': 'OK', 'request_id': 150}\n",
      "{'probability': 0.52, 'label': '>50K', 'status': 'OK', 'request_id': 151}\n",
      "{'probability': 0.02, 'label': '<=50K', 'status': 'OK', 'request_id': 152}\n",
      "{'probability': 0.17, 'label': '<=50K', 'status': 'OK', 'request_id': 153}\n",
      "{'probability': 0.24, 'label': '<=50K', 'status': 'OK', 'request_id': 154}\n",
      "{'probability': 0.08, 'label': '<=50K', 'status': 'OK', 'request_id': 155}\n",
      "{'probability': 0.01, 'label': '<=50K', 'status': 'OK', 'request_id': 156}\n",
      "{'probability': 0.01, 'label': '<=50K', 'status': 'OK', 'request_id': 157}\n",
      "{'probability': 0.21, 'label': '<=50K', 'status': 'OK', 'request_id': 158}\n",
      "{'probability': 0.01, 'label': '<=50K', 'status': 'OK', 'request_id': 159}\n",
      "{'probability': 0.21, 'label': '<=50K', 'status': 'OK', 'request_id': 160}\n",
      "{'probability': 0.84, 'label': '>50K', 'status': 'OK', 'request_id': 161}\n",
      "{'probability': 0.52, 'label': '>50K', 'status': 'OK', 'request_id': 162}\n",
      "{'probability': 0.99, 'label': '>50K', 'status': 'OK', 'request_id': 163}\n",
      "{'probability': 0.85, 'label': '>50K', 'status': 'OK', 'request_id': 164}\n",
      "{'probability': 0.0, 'label': '<=50K', 'status': 'OK', 'request_id': 165}\n",
      "{'probability': 0.3, 'label': '<=50K', 'status': 'OK', 'request_id': 166}\n",
      "{'probability': 0.0, 'label': '<=50K', 'status': 'OK', 'request_id': 167}\n",
      "{'probability': 0.54, 'label': '>50K', 'status': 'OK', 'request_id': 168}\n",
      "{'probability': 0.14, 'label': '<=50K', 'status': 'OK', 'request_id': 169}\n",
      "{'probability': 0.79, 'label': '>50K', 'status': 'OK', 'request_id': 170}\n",
      "{'probability': 0.14, 'label': '<=50K', 'status': 'OK', 'request_id': 171}\n",
      "{'status': 'Error', 'message': \"y contains previously unseen labels: 'nan'\", 'request_id': 172}\n",
      "{'probability': 0.14, 'label': '<=50K', 'status': 'OK', 'request_id': 173}\n",
      "{'probability': 0.23, 'label': '<=50K', 'status': 'OK', 'request_id': 174}\n",
      "{'probability': 0.3, 'label': '<=50K', 'status': 'OK', 'request_id': 175}\n",
      "{'probability': 0.07, 'label': '<=50K', 'status': 'OK', 'request_id': 176}\n",
      "{'probability': 0.0, 'label': '<=50K', 'status': 'OK', 'request_id': 177}\n",
      "{'probability': 0.1, 'label': '<=50K', 'status': 'OK', 'request_id': 178}\n",
      "{'probability': 0.0, 'label': '<=50K', 'status': 'OK', 'request_id': 179}\n",
      "{'probability': 0.99, 'label': '>50K', 'status': 'OK', 'request_id': 180}\n",
      "{'probability': 0.41, 'label': '<=50K', 'status': 'OK', 'request_id': 181}\n",
      "{'probability': 0.35, 'label': '<=50K', 'status': 'OK', 'request_id': 182}\n",
      "{'probability': 0.0, 'label': '<=50K', 'status': 'OK', 'request_id': 183}\n",
      "{'status': 'Error', 'message': \"y contains previously unseen labels: 'nan'\", 'request_id': 184}\n",
      "{'probability': 0.0, 'label': '<=50K', 'status': 'OK', 'request_id': 185}\n",
      "{'probability': 0.21, 'label': '<=50K', 'status': 'OK', 'request_id': 186}\n",
      "{'probability': 0.25, 'label': '<=50K', 'status': 'OK', 'request_id': 187}\n",
      "{'probability': 0.99, 'label': '>50K', 'status': 'OK', 'request_id': 188}\n",
      "{'probability': 0.14, 'label': '<=50K', 'status': 'OK', 'request_id': 189}\n",
      "{'probability': 0.24, 'label': '<=50K', 'status': 'OK', 'request_id': 190}\n",
      "{'probability': 0.24, 'label': '<=50K', 'status': 'OK', 'request_id': 191}\n",
      "{'probability': 0.21, 'label': '<=50K', 'status': 'OK', 'request_id': 192}\n",
      "{'probability': 0.87, 'label': '>50K', 'status': 'OK', 'request_id': 193}\n",
      "{'probability': 0.53, 'label': '>50K', 'status': 'OK', 'request_id': 194}\n",
      "{'probability': 0.74, 'label': '>50K', 'status': 'OK', 'request_id': 195}\n",
      "{'probability': 0.01, 'label': '<=50K', 'status': 'OK', 'request_id': 196}\n",
      "{'status': 'Error', 'message': \"y contains previously unseen labels: 'nan'\", 'request_id': 197}\n",
      "{'probability': 0.0, 'label': '<=50K', 'status': 'OK', 'request_id': 198}\n",
      "{'probability': 0.0, 'label': '<=50K', 'status': 'OK', 'request_id': 199}\n",
      "{'probability': 0.71, 'label': '>50K', 'status': 'OK', 'request_id': 200}\n",
      "{'probability': 0.16, 'label': '<=50K', 'status': 'OK', 'request_id': 201}\n"
     ]
    }
   ],
   "source": [
    "for i in range(100):\n",
    "    input_data = dict(X_test.iloc[i])\n",
    "    target = y_test.iloc[i]\n",
    "    r = requests.post(\"http://127.0.0.1:8001/api/v1/income_classifier/predict?status=ab_testing\", input_data)\n",
    "    response = r.json()\n",
    "    print(response)\n",
    "    # provide feedback\n",
    "    requests.put(\"http://127.0.0.1:8001/api/v1/mlrequests/{}\".format(response[\"request_id\"]), {\"feedback\": target})"
   ]
  },
  {
   "cell_type": "code",
   "execution_count": null,
   "id": "76aaea3b",
   "metadata": {},
   "outputs": [],
   "source": []
  }
 ],
 "metadata": {
  "kernelspec": {
   "display_name": "Python 3 (ipykernel)",
   "language": "python",
   "name": "python3"
  },
  "language_info": {
   "codemirror_mode": {
    "name": "ipython",
    "version": 3
   },
   "file_extension": ".py",
   "mimetype": "text/x-python",
   "name": "python",
   "nbconvert_exporter": "python",
   "pygments_lexer": "ipython3",
   "version": "3.7.12"
  }
 },
 "nbformat": 4,
 "nbformat_minor": 5
}
